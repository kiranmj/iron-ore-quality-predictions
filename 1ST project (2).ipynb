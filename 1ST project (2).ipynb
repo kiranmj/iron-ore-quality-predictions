{
 "cells": [
  {
   "cell_type": "code",
   "execution_count": 1,
   "metadata": {},
   "outputs": [],
   "source": [
    "#Importing the Libraries\n",
    "import numpy as np\n",
    "import pandas as pd\n",
    "import matplotlib.pyplot as plt\n",
    "import seaborn as sns"
   ]
  },
  {
   "cell_type": "code",
   "execution_count": 2,
   "metadata": {},
   "outputs": [],
   "source": [
    "import os"
   ]
  },
  {
   "cell_type": "code",
   "execution_count": 3,
   "metadata": {},
   "outputs": [],
   "source": [
    "#Importing the Dataset\n",
    "os.chdir('C:/Users/SURYAKIRAN/Downloads')"
   ]
  },
  {
   "cell_type": "code",
   "execution_count": 4,
   "metadata": {},
   "outputs": [],
   "source": [
    "df = pd.read_csv(\"MiningProcess_Flotation_Plant_Database.csv\",decimal=\",\",parse_dates=[\"date\"],infer_datetime_format=True).drop_duplicates()"
   ]
  },
  {
   "cell_type": "code",
   "execution_count": 5,
   "metadata": {},
   "outputs": [
    {
     "data": {
      "text/html": [
       "<div>\n",
       "<style scoped>\n",
       "    .dataframe tbody tr th:only-of-type {\n",
       "        vertical-align: middle;\n",
       "    }\n",
       "\n",
       "    .dataframe tbody tr th {\n",
       "        vertical-align: top;\n",
       "    }\n",
       "\n",
       "    .dataframe thead th {\n",
       "        text-align: right;\n",
       "    }\n",
       "</style>\n",
       "<table border=\"1\" class=\"dataframe\">\n",
       "  <thead>\n",
       "    <tr style=\"text-align: right;\">\n",
       "      <th></th>\n",
       "      <th>date</th>\n",
       "      <th>% Iron Feed</th>\n",
       "      <th>% Silica Feed</th>\n",
       "      <th>Starch Flow</th>\n",
       "      <th>Amina Flow</th>\n",
       "      <th>Ore Pulp Flow</th>\n",
       "      <th>Ore Pulp pH</th>\n",
       "      <th>Ore Pulp Density</th>\n",
       "      <th>Flotation Column 01 Air Flow</th>\n",
       "      <th>Flotation Column 02 Air Flow</th>\n",
       "      <th>...</th>\n",
       "      <th>Flotation Column 07 Air Flow</th>\n",
       "      <th>Flotation Column 01 Level</th>\n",
       "      <th>Flotation Column 02 Level</th>\n",
       "      <th>Flotation Column 03 Level</th>\n",
       "      <th>Flotation Column 04 Level</th>\n",
       "      <th>Flotation Column 05 Level</th>\n",
       "      <th>Flotation Column 06 Level</th>\n",
       "      <th>Flotation Column 07 Level</th>\n",
       "      <th>% Iron Concentrate</th>\n",
       "      <th>% Silica Concentrate</th>\n",
       "    </tr>\n",
       "  </thead>\n",
       "  <tbody>\n",
       "    <tr>\n",
       "      <th>0</th>\n",
       "      <td>2017-03-10 01:00:00</td>\n",
       "      <td>55.2</td>\n",
       "      <td>16.98</td>\n",
       "      <td>3019.53</td>\n",
       "      <td>557.434</td>\n",
       "      <td>395.713</td>\n",
       "      <td>10.0664</td>\n",
       "      <td>1.74</td>\n",
       "      <td>249.214</td>\n",
       "      <td>253.235</td>\n",
       "      <td>...</td>\n",
       "      <td>250.884</td>\n",
       "      <td>457.396</td>\n",
       "      <td>432.962</td>\n",
       "      <td>424.954</td>\n",
       "      <td>443.558</td>\n",
       "      <td>502.255</td>\n",
       "      <td>446.370</td>\n",
       "      <td>523.344</td>\n",
       "      <td>66.91</td>\n",
       "      <td>1.31</td>\n",
       "    </tr>\n",
       "    <tr>\n",
       "      <th>1</th>\n",
       "      <td>2017-03-10 01:00:00</td>\n",
       "      <td>55.2</td>\n",
       "      <td>16.98</td>\n",
       "      <td>3024.41</td>\n",
       "      <td>563.965</td>\n",
       "      <td>397.383</td>\n",
       "      <td>10.0672</td>\n",
       "      <td>1.74</td>\n",
       "      <td>249.719</td>\n",
       "      <td>250.532</td>\n",
       "      <td>...</td>\n",
       "      <td>248.994</td>\n",
       "      <td>451.891</td>\n",
       "      <td>429.560</td>\n",
       "      <td>432.939</td>\n",
       "      <td>448.086</td>\n",
       "      <td>496.363</td>\n",
       "      <td>445.922</td>\n",
       "      <td>498.075</td>\n",
       "      <td>66.91</td>\n",
       "      <td>1.31</td>\n",
       "    </tr>\n",
       "    <tr>\n",
       "      <th>2</th>\n",
       "      <td>2017-03-10 01:00:00</td>\n",
       "      <td>55.2</td>\n",
       "      <td>16.98</td>\n",
       "      <td>3043.46</td>\n",
       "      <td>568.054</td>\n",
       "      <td>399.668</td>\n",
       "      <td>10.0680</td>\n",
       "      <td>1.74</td>\n",
       "      <td>249.741</td>\n",
       "      <td>247.874</td>\n",
       "      <td>...</td>\n",
       "      <td>248.071</td>\n",
       "      <td>451.240</td>\n",
       "      <td>468.927</td>\n",
       "      <td>434.610</td>\n",
       "      <td>449.688</td>\n",
       "      <td>484.411</td>\n",
       "      <td>447.826</td>\n",
       "      <td>458.567</td>\n",
       "      <td>66.91</td>\n",
       "      <td>1.31</td>\n",
       "    </tr>\n",
       "    <tr>\n",
       "      <th>3</th>\n",
       "      <td>2017-03-10 01:00:00</td>\n",
       "      <td>55.2</td>\n",
       "      <td>16.98</td>\n",
       "      <td>3047.36</td>\n",
       "      <td>568.665</td>\n",
       "      <td>397.939</td>\n",
       "      <td>10.0689</td>\n",
       "      <td>1.74</td>\n",
       "      <td>249.917</td>\n",
       "      <td>254.487</td>\n",
       "      <td>...</td>\n",
       "      <td>251.147</td>\n",
       "      <td>452.441</td>\n",
       "      <td>458.165</td>\n",
       "      <td>442.865</td>\n",
       "      <td>446.210</td>\n",
       "      <td>471.411</td>\n",
       "      <td>437.690</td>\n",
       "      <td>427.669</td>\n",
       "      <td>66.91</td>\n",
       "      <td>1.31</td>\n",
       "    </tr>\n",
       "    <tr>\n",
       "      <th>4</th>\n",
       "      <td>2017-03-10 01:00:00</td>\n",
       "      <td>55.2</td>\n",
       "      <td>16.98</td>\n",
       "      <td>3033.69</td>\n",
       "      <td>558.167</td>\n",
       "      <td>400.254</td>\n",
       "      <td>10.0697</td>\n",
       "      <td>1.74</td>\n",
       "      <td>250.203</td>\n",
       "      <td>252.136</td>\n",
       "      <td>...</td>\n",
       "      <td>248.928</td>\n",
       "      <td>452.441</td>\n",
       "      <td>452.900</td>\n",
       "      <td>450.523</td>\n",
       "      <td>453.670</td>\n",
       "      <td>462.598</td>\n",
       "      <td>443.682</td>\n",
       "      <td>425.679</td>\n",
       "      <td>66.91</td>\n",
       "      <td>1.31</td>\n",
       "    </tr>\n",
       "  </tbody>\n",
       "</table>\n",
       "<p>5 rows × 24 columns</p>\n",
       "</div>"
      ],
      "text/plain": [
       "                 date  % Iron Feed  % Silica Feed  Starch Flow  Amina Flow  \\\n",
       "0 2017-03-10 01:00:00         55.2          16.98      3019.53     557.434   \n",
       "1 2017-03-10 01:00:00         55.2          16.98      3024.41     563.965   \n",
       "2 2017-03-10 01:00:00         55.2          16.98      3043.46     568.054   \n",
       "3 2017-03-10 01:00:00         55.2          16.98      3047.36     568.665   \n",
       "4 2017-03-10 01:00:00         55.2          16.98      3033.69     558.167   \n",
       "\n",
       "   Ore Pulp Flow  Ore Pulp pH  Ore Pulp Density  Flotation Column 01 Air Flow  \\\n",
       "0        395.713      10.0664              1.74                       249.214   \n",
       "1        397.383      10.0672              1.74                       249.719   \n",
       "2        399.668      10.0680              1.74                       249.741   \n",
       "3        397.939      10.0689              1.74                       249.917   \n",
       "4        400.254      10.0697              1.74                       250.203   \n",
       "\n",
       "   Flotation Column 02 Air Flow          ...           \\\n",
       "0                       253.235          ...            \n",
       "1                       250.532          ...            \n",
       "2                       247.874          ...            \n",
       "3                       254.487          ...            \n",
       "4                       252.136          ...            \n",
       "\n",
       "   Flotation Column 07 Air Flow  Flotation Column 01 Level  \\\n",
       "0                       250.884                    457.396   \n",
       "1                       248.994                    451.891   \n",
       "2                       248.071                    451.240   \n",
       "3                       251.147                    452.441   \n",
       "4                       248.928                    452.441   \n",
       "\n",
       "   Flotation Column 02 Level  Flotation Column 03 Level  \\\n",
       "0                    432.962                    424.954   \n",
       "1                    429.560                    432.939   \n",
       "2                    468.927                    434.610   \n",
       "3                    458.165                    442.865   \n",
       "4                    452.900                    450.523   \n",
       "\n",
       "   Flotation Column 04 Level  Flotation Column 05 Level  \\\n",
       "0                    443.558                    502.255   \n",
       "1                    448.086                    496.363   \n",
       "2                    449.688                    484.411   \n",
       "3                    446.210                    471.411   \n",
       "4                    453.670                    462.598   \n",
       "\n",
       "   Flotation Column 06 Level  Flotation Column 07 Level  % Iron Concentrate  \\\n",
       "0                    446.370                    523.344               66.91   \n",
       "1                    445.922                    498.075               66.91   \n",
       "2                    447.826                    458.567               66.91   \n",
       "3                    437.690                    427.669               66.91   \n",
       "4                    443.682                    425.679               66.91   \n",
       "\n",
       "   % Silica Concentrate  \n",
       "0                  1.31  \n",
       "1                  1.31  \n",
       "2                  1.31  \n",
       "3                  1.31  \n",
       "4                  1.31  \n",
       "\n",
       "[5 rows x 24 columns]"
      ]
     },
     "execution_count": 5,
     "metadata": {},
     "output_type": "execute_result"
    }
   ],
   "source": [
    "# A basic analysis of dataset\n",
    "df.head()"
   ]
  },
  {
   "cell_type": "code",
   "execution_count": 6,
   "metadata": {},
   "outputs": [
    {
     "data": {
      "text/plain": [
       "(736282, 24)"
      ]
     },
     "execution_count": 6,
     "metadata": {},
     "output_type": "execute_result"
    }
   ],
   "source": [
    "#dimention of the data set\n",
    "df.shape"
   ]
  },
  {
   "cell_type": "code",
   "execution_count": 7,
   "metadata": {},
   "outputs": [],
   "source": [
    "\n",
    "\n",
    "    #In the dataset we have to predict the % Silica Concentrate\n",
    "    #Silica Concentrate is the impurity in the iron ore which needs to be removed\n",
    "    #The current process of detecting silica takes many hours.\n",
    "    #With the help of some analysis and modelling of data we can give a good approximation of silica concentrate which will reduce a lot of time and effort required for processing iron ore\n",
    "\n"
   ]
  },
  {
   "cell_type": "code",
   "execution_count": 8,
   "metadata": {},
   "outputs": [
    {
     "data": {
      "text/plain": [
       "(736282, 24)"
      ]
     },
     "execution_count": 8,
     "metadata": {},
     "output_type": "execute_result"
    }
   ],
   "source": [
    "#search for NULL values in the data set\n",
    "#Great! So we can see that there are no null values in the dataset.\n",
    "df = df.dropna()\n",
    "df.shape"
   ]
  },
  {
   "cell_type": "code",
   "execution_count": 11,
   "metadata": {},
   "outputs": [
    {
     "data": {
      "text/html": [
       "<div>\n",
       "<style scoped>\n",
       "    .dataframe tbody tr th:only-of-type {\n",
       "        vertical-align: middle;\n",
       "    }\n",
       "\n",
       "    .dataframe tbody tr th {\n",
       "        vertical-align: top;\n",
       "    }\n",
       "\n",
       "    .dataframe thead th {\n",
       "        text-align: right;\n",
       "    }\n",
       "</style>\n",
       "<table border=\"1\" class=\"dataframe\">\n",
       "  <thead>\n",
       "    <tr style=\"text-align: right;\">\n",
       "      <th></th>\n",
       "      <th>% Iron Feed</th>\n",
       "      <th>% Silica Feed</th>\n",
       "      <th>Starch Flow</th>\n",
       "      <th>Amina Flow</th>\n",
       "      <th>Ore Pulp Flow</th>\n",
       "      <th>Ore Pulp pH</th>\n",
       "      <th>Ore Pulp Density</th>\n",
       "      <th>Flotation Column 01 Air Flow</th>\n",
       "      <th>Flotation Column 02 Air Flow</th>\n",
       "      <th>Flotation Column 03 Air Flow</th>\n",
       "      <th>...</th>\n",
       "      <th>Flotation Column 07 Air Flow</th>\n",
       "      <th>Flotation Column 01 Level</th>\n",
       "      <th>Flotation Column 02 Level</th>\n",
       "      <th>Flotation Column 03 Level</th>\n",
       "      <th>Flotation Column 04 Level</th>\n",
       "      <th>Flotation Column 05 Level</th>\n",
       "      <th>Flotation Column 06 Level</th>\n",
       "      <th>Flotation Column 07 Level</th>\n",
       "      <th>% Iron Concentrate</th>\n",
       "      <th>% Silica Concentrate</th>\n",
       "    </tr>\n",
       "  </thead>\n",
       "  <tbody>\n",
       "    <tr>\n",
       "      <th>count</th>\n",
       "      <td>736282.000000</td>\n",
       "      <td>736282.000000</td>\n",
       "      <td>736282.000000</td>\n",
       "      <td>736282.000000</td>\n",
       "      <td>736282.000000</td>\n",
       "      <td>736282.000000</td>\n",
       "      <td>736282.000000</td>\n",
       "      <td>736282.000000</td>\n",
       "      <td>736282.000000</td>\n",
       "      <td>736282.000000</td>\n",
       "      <td>...</td>\n",
       "      <td>736282.000000</td>\n",
       "      <td>736282.000000</td>\n",
       "      <td>736282.000000</td>\n",
       "      <td>736282.000000</td>\n",
       "      <td>736282.000000</td>\n",
       "      <td>736282.00000</td>\n",
       "      <td>736282.000000</td>\n",
       "      <td>736282.000000</td>\n",
       "      <td>736282.000000</td>\n",
       "      <td>736282.000000</td>\n",
       "    </tr>\n",
       "    <tr>\n",
       "      <th>mean</th>\n",
       "      <td>56.298307</td>\n",
       "      <td>14.648984</td>\n",
       "      <td>2869.636615</td>\n",
       "      <td>488.165523</td>\n",
       "      <td>397.570736</td>\n",
       "      <td>9.767315</td>\n",
       "      <td>1.680424</td>\n",
       "      <td>280.119813</td>\n",
       "      <td>277.121249</td>\n",
       "      <td>281.052538</td>\n",
       "      <td>...</td>\n",
       "      <td>290.740507</td>\n",
       "      <td>520.168402</td>\n",
       "      <td>522.555279</td>\n",
       "      <td>531.283790</td>\n",
       "      <td>420.169753</td>\n",
       "      <td>425.09453</td>\n",
       "      <td>429.889517</td>\n",
       "      <td>420.910258</td>\n",
       "      <td>65.049096</td>\n",
       "      <td>2.327270</td>\n",
       "    </tr>\n",
       "    <tr>\n",
       "      <th>std</th>\n",
       "      <td>5.160365</td>\n",
       "      <td>6.810741</td>\n",
       "      <td>1216.017896</td>\n",
       "      <td>91.254428</td>\n",
       "      <td>9.705444</td>\n",
       "      <td>0.387176</td>\n",
       "      <td>0.069206</td>\n",
       "      <td>29.633831</td>\n",
       "      <td>30.157126</td>\n",
       "      <td>28.571077</td>\n",
       "      <td>...</td>\n",
       "      <td>28.690520</td>\n",
       "      <td>131.085819</td>\n",
       "      <td>128.216232</td>\n",
       "      <td>150.931865</td>\n",
       "      <td>91.755819</td>\n",
       "      <td>84.47917</td>\n",
       "      <td>89.919586</td>\n",
       "      <td>84.899167</td>\n",
       "      <td>1.118721</td>\n",
       "      <td>1.125616</td>\n",
       "    </tr>\n",
       "    <tr>\n",
       "      <th>min</th>\n",
       "      <td>42.740000</td>\n",
       "      <td>1.310000</td>\n",
       "      <td>0.002026</td>\n",
       "      <td>241.669000</td>\n",
       "      <td>376.249000</td>\n",
       "      <td>8.753340</td>\n",
       "      <td>1.519820</td>\n",
       "      <td>175.510000</td>\n",
       "      <td>175.156000</td>\n",
       "      <td>176.469000</td>\n",
       "      <td>...</td>\n",
       "      <td>185.962000</td>\n",
       "      <td>149.218000</td>\n",
       "      <td>210.752000</td>\n",
       "      <td>126.255000</td>\n",
       "      <td>162.201000</td>\n",
       "      <td>166.99100</td>\n",
       "      <td>155.841000</td>\n",
       "      <td>175.349000</td>\n",
       "      <td>62.050000</td>\n",
       "      <td>0.600000</td>\n",
       "    </tr>\n",
       "    <tr>\n",
       "      <th>25%</th>\n",
       "      <td>52.670000</td>\n",
       "      <td>8.940000</td>\n",
       "      <td>2075.070000</td>\n",
       "      <td>431.835848</td>\n",
       "      <td>394.248000</td>\n",
       "      <td>9.527050</td>\n",
       "      <td>1.647390</td>\n",
       "      <td>250.278000</td>\n",
       "      <td>250.448000</td>\n",
       "      <td>250.847000</td>\n",
       "      <td>...</td>\n",
       "      <td>256.047750</td>\n",
       "      <td>416.902000</td>\n",
       "      <td>441.835250</td>\n",
       "      <td>411.256000</td>\n",
       "      <td>356.627000</td>\n",
       "      <td>357.59525</td>\n",
       "      <td>358.438000</td>\n",
       "      <td>356.705250</td>\n",
       "      <td>64.370000</td>\n",
       "      <td>1.440000</td>\n",
       "    </tr>\n",
       "    <tr>\n",
       "      <th>50%</th>\n",
       "      <td>56.080000</td>\n",
       "      <td>13.850000</td>\n",
       "      <td>3020.230000</td>\n",
       "      <td>504.352500</td>\n",
       "      <td>399.238000</td>\n",
       "      <td>9.797460</td>\n",
       "      <td>1.697580</td>\n",
       "      <td>299.341000</td>\n",
       "      <td>296.202000</td>\n",
       "      <td>298.690000</td>\n",
       "      <td>...</td>\n",
       "      <td>299.002000</td>\n",
       "      <td>491.749000</td>\n",
       "      <td>495.853500</td>\n",
       "      <td>494.184000</td>\n",
       "      <td>411.770500</td>\n",
       "      <td>408.65000</td>\n",
       "      <td>424.427000</td>\n",
       "      <td>410.940000</td>\n",
       "      <td>65.210000</td>\n",
       "      <td>2.000000</td>\n",
       "    </tr>\n",
       "    <tr>\n",
       "      <th>75%</th>\n",
       "      <td>59.720000</td>\n",
       "      <td>19.600000</td>\n",
       "      <td>3728.930000</td>\n",
       "      <td>553.335750</td>\n",
       "      <td>402.967000</td>\n",
       "      <td>10.037800</td>\n",
       "      <td>1.728380</td>\n",
       "      <td>300.147000</td>\n",
       "      <td>300.686000</td>\n",
       "      <td>300.385000</td>\n",
       "      <td>...</td>\n",
       "      <td>301.907000</td>\n",
       "      <td>594.097750</td>\n",
       "      <td>595.293000</td>\n",
       "      <td>601.299000</td>\n",
       "      <td>485.285000</td>\n",
       "      <td>484.00800</td>\n",
       "      <td>492.773000</td>\n",
       "      <td>476.145000</td>\n",
       "      <td>65.860000</td>\n",
       "      <td>3.010000</td>\n",
       "    </tr>\n",
       "    <tr>\n",
       "      <th>max</th>\n",
       "      <td>65.780000</td>\n",
       "      <td>33.400000</td>\n",
       "      <td>6300.230000</td>\n",
       "      <td>739.538000</td>\n",
       "      <td>418.641000</td>\n",
       "      <td>10.808100</td>\n",
       "      <td>1.853250</td>\n",
       "      <td>373.871000</td>\n",
       "      <td>375.992000</td>\n",
       "      <td>364.346000</td>\n",
       "      <td>...</td>\n",
       "      <td>371.593000</td>\n",
       "      <td>862.274000</td>\n",
       "      <td>828.919000</td>\n",
       "      <td>886.822000</td>\n",
       "      <td>680.359000</td>\n",
       "      <td>675.64400</td>\n",
       "      <td>698.861000</td>\n",
       "      <td>659.902000</td>\n",
       "      <td>68.010000</td>\n",
       "      <td>5.530000</td>\n",
       "    </tr>\n",
       "  </tbody>\n",
       "</table>\n",
       "<p>8 rows × 23 columns</p>\n",
       "</div>"
      ],
      "text/plain": [
       "         % Iron Feed  % Silica Feed    Starch Flow     Amina Flow  \\\n",
       "count  736282.000000  736282.000000  736282.000000  736282.000000   \n",
       "mean       56.298307      14.648984    2869.636615     488.165523   \n",
       "std         5.160365       6.810741    1216.017896      91.254428   \n",
       "min        42.740000       1.310000       0.002026     241.669000   \n",
       "25%        52.670000       8.940000    2075.070000     431.835848   \n",
       "50%        56.080000      13.850000    3020.230000     504.352500   \n",
       "75%        59.720000      19.600000    3728.930000     553.335750   \n",
       "max        65.780000      33.400000    6300.230000     739.538000   \n",
       "\n",
       "       Ore Pulp Flow    Ore Pulp pH  Ore Pulp Density  \\\n",
       "count  736282.000000  736282.000000     736282.000000   \n",
       "mean      397.570736       9.767315          1.680424   \n",
       "std         9.705444       0.387176          0.069206   \n",
       "min       376.249000       8.753340          1.519820   \n",
       "25%       394.248000       9.527050          1.647390   \n",
       "50%       399.238000       9.797460          1.697580   \n",
       "75%       402.967000      10.037800          1.728380   \n",
       "max       418.641000      10.808100          1.853250   \n",
       "\n",
       "       Flotation Column 01 Air Flow  Flotation Column 02 Air Flow  \\\n",
       "count                 736282.000000                 736282.000000   \n",
       "mean                     280.119813                    277.121249   \n",
       "std                       29.633831                     30.157126   \n",
       "min                      175.510000                    175.156000   \n",
       "25%                      250.278000                    250.448000   \n",
       "50%                      299.341000                    296.202000   \n",
       "75%                      300.147000                    300.686000   \n",
       "max                      373.871000                    375.992000   \n",
       "\n",
       "       Flotation Column 03 Air Flow          ...           \\\n",
       "count                 736282.000000          ...            \n",
       "mean                     281.052538          ...            \n",
       "std                       28.571077          ...            \n",
       "min                      176.469000          ...            \n",
       "25%                      250.847000          ...            \n",
       "50%                      298.690000          ...            \n",
       "75%                      300.385000          ...            \n",
       "max                      364.346000          ...            \n",
       "\n",
       "       Flotation Column 07 Air Flow  Flotation Column 01 Level  \\\n",
       "count                 736282.000000              736282.000000   \n",
       "mean                     290.740507                 520.168402   \n",
       "std                       28.690520                 131.085819   \n",
       "min                      185.962000                 149.218000   \n",
       "25%                      256.047750                 416.902000   \n",
       "50%                      299.002000                 491.749000   \n",
       "75%                      301.907000                 594.097750   \n",
       "max                      371.593000                 862.274000   \n",
       "\n",
       "       Flotation Column 02 Level  Flotation Column 03 Level  \\\n",
       "count              736282.000000              736282.000000   \n",
       "mean                  522.555279                 531.283790   \n",
       "std                   128.216232                 150.931865   \n",
       "min                   210.752000                 126.255000   \n",
       "25%                   441.835250                 411.256000   \n",
       "50%                   495.853500                 494.184000   \n",
       "75%                   595.293000                 601.299000   \n",
       "max                   828.919000                 886.822000   \n",
       "\n",
       "       Flotation Column 04 Level  Flotation Column 05 Level  \\\n",
       "count              736282.000000               736282.00000   \n",
       "mean                  420.169753                  425.09453   \n",
       "std                    91.755819                   84.47917   \n",
       "min                   162.201000                  166.99100   \n",
       "25%                   356.627000                  357.59525   \n",
       "50%                   411.770500                  408.65000   \n",
       "75%                   485.285000                  484.00800   \n",
       "max                   680.359000                  675.64400   \n",
       "\n",
       "       Flotation Column 06 Level  Flotation Column 07 Level  \\\n",
       "count              736282.000000              736282.000000   \n",
       "mean                  429.889517                 420.910258   \n",
       "std                    89.919586                  84.899167   \n",
       "min                   155.841000                 175.349000   \n",
       "25%                   358.438000                 356.705250   \n",
       "50%                   424.427000                 410.940000   \n",
       "75%                   492.773000                 476.145000   \n",
       "max                   698.861000                 659.902000   \n",
       "\n",
       "       % Iron Concentrate  % Silica Concentrate  \n",
       "count       736282.000000         736282.000000  \n",
       "mean            65.049096              2.327270  \n",
       "std              1.118721              1.125616  \n",
       "min             62.050000              0.600000  \n",
       "25%             64.370000              1.440000  \n",
       "50%             65.210000              2.000000  \n",
       "75%             65.860000              3.010000  \n",
       "max             68.010000              5.530000  \n",
       "\n",
       "[8 rows x 23 columns]"
      ]
     },
     "execution_count": 11,
     "metadata": {},
     "output_type": "execute_result"
    }
   ],
   "source": [
    "#Observe the data\n",
    "df.describe()"
   ]
  },
  {
   "cell_type": "code",
   "execution_count": 13,
   "metadata": {},
   "outputs": [],
   "source": [
    "#remove um-necessary variable\n",
    "df = df.drop(['date', '% Iron Concentrate', 'Ore Pulp pH', 'Flotation Column 01 Air Flow', 'Flotation Column 02 Air Flow', 'Flotation Column 03 Air Flow'], axis=1)"
   ]
  },
  {
   "cell_type": "code",
   "execution_count": 14,
   "metadata": {},
   "outputs": [],
   "source": [
    "Y = df['% Silica Concentrate']\n",
    "X = df.drop(['% Silica Concentrate'], axis=1)"
   ]
  },
  {
   "cell_type": "code",
   "execution_count": null,
   "metadata": {},
   "outputs": [],
   "source": [
    "#$from sk learn import preprocessing\n",
    "#Scaling the features¶&for splitting the data"
   ]
  },
  {
   "cell_type": "code",
   "execution_count": 15,
   "metadata": {},
   "outputs": [],
   "source": [
    "from sklearn import preprocessing\n",
    "min_max_scaler = preprocessing.MinMaxScaler()"
   ]
  },
  {
   "cell_type": "code",
   "execution_count": 16,
   "metadata": {},
   "outputs": [],
   "source": [
    "X_scaled = pd.DataFrame(min_max_scaler.fit_transform(X), columns=X.columns)"
   ]
  },
  {
   "cell_type": "code",
   "execution_count": 17,
   "metadata": {},
   "outputs": [],
   "source": [
    "#splitting\n",
    "from sklearn.model_selection import train_test_split"
   ]
  },
  {
   "cell_type": "code",
   "execution_count": 18,
   "metadata": {},
   "outputs": [],
   "source": [
    "X_train, X_test, Y_train, Y_test = train_test_split(X_scaled, Y, test_size=0.3, random_state=42)"
   ]
  },
  {
   "cell_type": "code",
   "execution_count": 19,
   "metadata": {},
   "outputs": [],
   "source": [
    "#Training a Model\n",
    "#Using Linear Regression \n",
    "from sklearn.linear_model import LinearRegression"
   ]
  },
  {
   "cell_type": "code",
   "execution_count": 20,
   "metadata": {},
   "outputs": [],
   "source": [
    "#model building\n",
    "reg = LinearRegression()"
   ]
  },
  {
   "cell_type": "code",
   "execution_count": 21,
   "metadata": {},
   "outputs": [],
   "source": [
    "_ = reg.fit(X_train, Y_train)"
   ]
  },
  {
   "cell_type": "code",
   "execution_count": 22,
   "metadata": {},
   "outputs": [
    {
     "data": {
      "text/plain": [
       "array([2.9661312 , 2.08750249, 2.48277175, ..., 2.36085944, 2.24827599,\n",
       "       1.93280309])"
      ]
     },
     "execution_count": 22,
     "metadata": {},
     "output_type": "execute_result"
    }
   ],
   "source": [
    "predictions = reg.predict(X_test)\n",
    "predictions"
   ]
  },
  {
   "cell_type": "code",
   "execution_count": 23,
   "metadata": {},
   "outputs": [
    {
     "data": {
      "text/plain": [
       "array([2.9661312 , 2.08750249, 2.48277175, ..., 2.36085944, 2.24827599,\n",
       "       1.93280309])"
      ]
     },
     "execution_count": 23,
     "metadata": {},
     "output_type": "execute_result"
    }
   ],
   "source": [
    "predictions = reg.predict(X_test)\n",
    "predictions"
   ]
  },
  {
   "cell_type": "code",
   "execution_count": 25,
   "metadata": {},
   "outputs": [],
   "source": [
    "# Finding Mean Squared Error\n",
    "from sklearn.metrics import mean_squared_error"
   ]
  },
  {
   "cell_type": "code",
   "execution_count": 26,
   "metadata": {},
   "outputs": [
    {
     "data": {
      "text/plain": [
       "1.1534498633347785"
      ]
     },
     "execution_count": 26,
     "metadata": {},
     "output_type": "execute_result"
    }
   ],
   "source": [
    "error = mean_squared_error(Y_test, predictions)\n",
    "error"
   ]
  },
  {
   "cell_type": "code",
   "execution_count": 27,
   "metadata": {},
   "outputs": [],
   "source": [
    "# Using Stochastic Gradient Descent BUILD MODEL\n",
    "from sklearn.linear_model import SGDRegressor"
   ]
  },
  {
   "cell_type": "code",
   "execution_count": 28,
   "metadata": {},
   "outputs": [],
   "source": [
    "reg_sgd = SGDRegressor(max_iter=1000, tol=1e-3)"
   ]
  },
  {
   "cell_type": "code",
   "execution_count": 29,
   "metadata": {},
   "outputs": [],
   "source": [
    "_ = reg_sgd.fit(X_train, Y_train)"
   ]
  },
  {
   "cell_type": "code",
   "execution_count": 30,
   "metadata": {},
   "outputs": [],
   "source": [
    "predicitons_sgd = reg_sgd.predict(X_test)"
   ]
  },
  {
   "cell_type": "code",
   "execution_count": 31,
   "metadata": {},
   "outputs": [
    {
     "data": {
      "text/plain": [
       "1.1543607360582588"
      ]
     },
     "execution_count": 31,
     "metadata": {},
     "output_type": "execute_result"
    }
   ],
   "source": [
    "# Finding Mean Squared Error\n",
    "error_sgd = mean_squared_error(Y_test, predicitons_sgd)\n",
    "error_sgd"
   ]
  },
  {
   "cell_type": "code",
   "execution_count": null,
   "metadata": {},
   "outputs": [],
   "source": [
    "###### BY USING ENSEMBLES AND RAMDOMFOREST FOR REGRESSOR"
   ]
  },
  {
   "cell_type": "code",
   "execution_count": null,
   "metadata": {},
   "outputs": [],
   "source": [
    "# building  model"
   ]
  },
  {
   "cell_type": "code",
   "execution_count": 51,
   "metadata": {},
   "outputs": [],
   "source": [
    "Y = df['% Silica Concentrate']\n",
    "X = df.drop(['% Silica Concentrate'], axis=1)"
   ]
  },
  {
   "cell_type": "code",
   "execution_count": 41,
   "metadata": {},
   "outputs": [],
   "source": [
    "#import RandomForestRegressor from sklearn.ensemble \n",
    "from sklearn.ensemble import RandomForestRegressor"
   ]
  },
  {
   "cell_type": "code",
   "execution_count": 42,
   "metadata": {},
   "outputs": [
    {
     "name": "stderr",
     "output_type": "stream",
     "text": [
      "C:\\Users\\SURYAKIRAN\\Anaconda3\\lib\\site-packages\\sklearn\\ensemble\\forest.py:246: FutureWarning: The default value of n_estimators will change from 10 in version 0.20 to 100 in 0.22.\n",
      "  \"10 in version 0.20 to 100 in 0.22.\", FutureWarning)\n"
     ]
    },
    {
     "data": {
      "text/plain": [
       "RandomForestRegressor(bootstrap=True, criterion='mse', max_depth=None,\n",
       "           max_features='auto', max_leaf_nodes=None,\n",
       "           min_impurity_decrease=0.0, min_impurity_split=None,\n",
       "           min_samples_leaf=1, min_samples_split=2,\n",
       "           min_weight_fraction_leaf=0.0, n_estimators=10, n_jobs=None,\n",
       "           oob_score=False, random_state=None, verbose=0, warm_start=False)"
      ]
     },
     "execution_count": 42,
     "metadata": {},
     "output_type": "execute_result"
    }
   ],
   "source": [
    "# Model creation and fit\n",
    "model = RandomForestRegressor()\n",
    "model.fit(X,Y)"
   ]
  },
  {
   "cell_type": "code",
   "execution_count": 45,
   "metadata": {},
   "outputs": [
    {
     "name": "stdout",
     "output_type": "stream",
     "text": [
      "TRAINING SET\n",
      "============\n",
      "MAE:                 0.0520420460411413\n",
      "RMSE:                0.13660215247579208\n",
      "r2:                  0.9852722931895824\n",
      "feature_importances: [0.14466714 0.1401789  0.05550717 0.08949046 0.02778911 0.08035349\n",
      " 0.07413587 0.0588104  0.05764674 0.01058857 0.05842403 0.04462764\n",
      " 0.057091   0.01999857 0.04028628 0.02701785 0.01338678]\n",
      "n_features:          17\n",
      "n_outputs:           1\n",
      "last column (% Iron Concentrate) is the highest feature_importances\n"
     ]
    }
   ],
   "source": [
    "# Show model results of training set\n",
    "y_hat = model.predict(X)\n",
    "mae = metrics.mean_absolute_error(Y,y_hat)\n",
    "mse = metrics.mean_squared_error(Y,y_hat)\n",
    "print (\"TRAINING SET\")\n",
    "print (\"============\")\n",
    "print (\"MAE:                \", mae)\n",
    "print (\"RMSE:               \", math.sqrt(mse))\n",
    "print (\"r2:                 \", model.score(X,Y))\n",
    "print (\"feature_importances:\",model.feature_importances_)\n",
    "print (\"n_features:         \",model.n_features_)\n",
    "print (\"n_outputs:          \",model.n_outputs_)\n",
    "print (\"last column (% Iron Concentrate) is the highest feature_importances\")\n",
    "\n"
   ]
  },
  {
   "cell_type": "code",
   "execution_count": null,
   "metadata": {},
   "outputs": [],
   "source": []
  },
  {
   "cell_type": "code",
   "execution_count": null,
   "metadata": {},
   "outputs": [],
   "source": []
  }
 ],
 "metadata": {
  "kernelspec": {
   "display_name": "Python 3",
   "language": "python",
   "name": "python3"
  },
  "language_info": {
   "codemirror_mode": {
    "name": "ipython",
    "version": 3
   },
   "file_extension": ".py",
   "mimetype": "text/x-python",
   "name": "python",
   "nbconvert_exporter": "python",
   "pygments_lexer": "ipython3",
   "version": "3.7.1"
  }
 },
 "nbformat": 4,
 "nbformat_minor": 2
}
